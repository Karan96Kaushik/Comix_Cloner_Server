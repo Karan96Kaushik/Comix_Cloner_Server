{
 "cells": [
  {
   "cell_type": "code",
   "execution_count": 20,
   "metadata": {},
   "outputs": [],
   "source": [
    "from requests import get\n",
    "from bs4 import BeautifulSoup\n",
    "import os\n",
    "import img2pdf\n",
    "from selenium.webdriver import ActionChains \n",
    "import sys\n",
    "from selenium import webdriver\n",
    "from selenium.webdriver.firefox.options import Options\n",
    "from selenium.webdriver.common.keys import Keys\n",
    "from IPython.core.display import display, HTML\n",
    "from time import sleep"
   ]
  },
  {
   "cell_type": "code",
   "execution_count": 2,
   "metadata": {},
   "outputs": [
    {
     "name": "stdout",
     "output_type": "stream",
     "text": [
      "<!DOCTYPE html>\n",
      " <html lang=\"en\"><head><meta charset=\"utf-8\"/> <meta content=\"width=device-width, initial-scale=1, maximum-scale=1, minimum-scale=1\" name=\"viewport\"/> <title>Mrs. Turner - Issue 1</title> <meta content=\"A huge collection of free porn comics for adults. Read Mrs. Turner/Issue 1 online for free at 8muses.com\" name=\"description\"/> <meta content=\"\" name=\"keywords\"/> <link href=\"https://www.8muses.com/comics/album/Giantess-Club-Comics/Mrs_-Turner/Issue-1\" rel=\"canonical\"/> <link href=\"/favicon.ico\" rel=\"icon\"/> <link href=\"https://fonts.googleapis.com/css?family=Open+Sans:400italic,700italic,400,700\" rel=\"stylesheet\"/> <link href=\"https://cdn.jsdelivr.net/npm/font-awesome@4.7.0/css/font-awesome.min.css\" rel=\"stylesheet\"/> <link href=\"/css/bundle-guest.css?v=23a789b35df45466810cf67ff148b9c5983ff3a6\" rel=\"stylesheet\"/> <link href=\"/sitemap/index.xml\" rel=\"sitemap\" type=\"application/xml\"/></head> <body><div id=\"ractive-body\"><div class=\"c-browser-warning\"><span class=\"browser-warning-text\"><i class=\"fa fa-warning icon-inline\"></i> Your browser does not fully support modern web standards and might not be able to display this website. We recommend using Chrome, Firefox or any other modern browser instead.</span> <button class=\"browser-warning-ignore\">Dismiss</button></div> <div class=\"\" id=\"b-wrapper\"><div id=\"top-menu\"><div class=\"top-menu-logo\"><a class=\"menu-logo show-desktop block\" href=\"/comics\"><img alt=\"8muses\" src=\"/img/logo.png\" width=\"78\"/></a> <a class=\"menu-logo show-tablet show-mobile block\" id=\"left-menu-open\"><img alt=\"8muses\" src=\"/img/logo-mobile.png\" width=\"38\"/></a></div> <div class=\"top-menu-breadcrumb\"><ol><li><a href=\"/comics\"><i class=\"fa fa-home\"></i></a></li> <li><a href=\"/comics/album/Giantess-Club-Comics\">Giantess Club Comics</a></li><li><a href=\"/comics/album/Giantess-Club-Comics/Mrs_-Turner\">Mrs. Turner</a></li> <li><a href=\"/comics/album/Giantess-Club-Comics/Mrs_-Turner/Issue-1\">Issue 1</a></li> </ol></div> <div class=\"top-menu-right\"> <div class=\"login show-tablet show-desktop block\"><a href=\"/auth/login?back=\"><i class=\"fa fa-lock icon-inline\"></i> Log in</a></div></div></div> <div class=\"c-left-menu\" id=\"left-menu\"><ol class=\"menu-items\"><li class=\"menu-logo show-tablet show-mobile block\"><a href=\"/comics\"><img alt=\"8muses\" src=\"/img/logo.png\" width=\"78\"/></a> <a class=\"left-menu-icon-close\" id=\"left-menu-close\"><img src=\"/img/icon-close.png\" width=\"14\"/></a></li> <li><a href=\"/comics/lastupdate\">Recently Updated</a></li> <li id=\"more-content\"><div class=\"row\">More Content <div class=\"ui-selectmenu-menu ui-front ui-selectmenu-open\" id=\"more-content-menu\"><ul class=\"ui-menu ui-widget ui-widget-content ui-corner-bottom\"><li class=\"ui-menu-item\"><a href=\"/comics/album/various-authors\">Various Comic Authors</a></li> <li class=\"ui-menu-item\"><a href=\"/comics/album/fake-celebrities-sex-pictures\">Fake Celebrities Sex Pictures</a></li> <li class=\"ui-menu-item\"><a href=\"/comics/album/hentai-and-manga-english\">Hentai and Manga in English</a></li> <li class=\"ui-menu-item\"><a href=\"/comics/album/fakku-comics\">Fakku</a></li> <li class=\"ui-menu-item\"><a href=\"/comics/album/8muses-comics\">8muses Comics</a></li></ul></div></div></li> <li class=\"ui-menu-item\"><a href=\"https://www.8muses.com/forum\" target=\"_blank\">Forum</a></li> <li class=\"ui-menu-item\"><a href=\"https://a.adtng.com/get/10002365\" rel=\"noopener\" target=\"_blank\">Sex Games</a></li> <li class=\"show-mobile block\"><a href=\"/auth/login?back=\"><i class=\"fa fa-lock icon-inline\"></i> Log in</a></li> <li><form action=\"/search\" class=\"search-form\" method=\"get\"><input class=\"input\" minlength=\"3\" name=\"q\" placeholder=\"SEARCH\" required=\"\" type=\"text\" value=\"\"/> <button class=\"button\" type=\"submit\"><i class=\"fa fa-search\"></i></button></form></li></ol> <div class=\"newsletter\"><h3>Get updates &amp; new comics</h3> <form action=\"//8muses.us12.list-manage.com/subscribe/post?u=6af55cb3b69e29e88bb74d90f&amp;id=2c78760569\" class=\"newsletter-form\" method=\"post\"><input class=\"input\" name=\"EMAIL\" placeholder=\"your@e-mail.address\" required=\"\" type=\"email\"/> <div style=\"position: absolute; left: -5000px;\"><input name=\"b_6af55cb3b69e29e88bb74d90f_2c78760569\" tabindex=\"-1\" type=\"text\" value=\"\"/></div> <button class=\"button\" type=\"submit\">Subscribe</button></form> <a href=\"http://us12.campaign-archive2.com/home/?u=6af55cb3b69e29e88bb74d90f&amp;id=2c78760569\">Newsletter archive</a></div> <div class=\"a-image\"></div> <div class=\"legal\"><ol><li><a href=\"https://www.8muses.com/dmca.html\">DMCA</a></li> <li><a href=\"https://www.8muses.com/contact.html\">Contact</a></li></ol></div></div> <div id=\"content\"> <div itemscope=\"\" itemtype=\"https://schema.org/ImageGallery\"><meta content=\"Issue 1\" itemprop=\"name\"/> <div class=\"gallery\"> <a class=\"c-tile t-hover\" href=\"/comics/picture/Giantess-Club-Comics/Mrs_-Turner/Issue-1/1\" title=\"Mrs._Turner_1_Page_01\"> <div class=\"image\"><img class=\"lazyload\" data-src=\"/image/th/ry1Q+JJvBLRYC70aF4c38I5STu3UDaVSUlmsa7ke7D9Pu21eDvfhXd971Z9ELUHPPT-gUqqXSqNRCW1B5Bbyu-rs31GYtTVFQNLxWn3R4F+bZfjkCr1OuOGVLQortZicHOb1jRCYR7n3AdcjJiYYmA.jpg\"/></div> <div class=\"image-overlay\"></div></a><a class=\"c-tile t-hover\" href=\"/comics/picture/Giantess-Club-Comics/Mrs_-Turner/Issue-1/2\" title=\"Mrs._Turner_1_Page_02\"> <div class=\"image\"><img class=\"lazyload\" data-src=\"/image/th/ry1Q+JJvBLRYC70aF4c38I5STu3UDaVSUlmsa7ke7D9Pu21eDvfhXd971Z9ELUHPPT-gUqqXSqNRCW1B5Bbyu6w3oYR20SARDa59HRl6eivKUk+dmok60r0BrfWi115FX56sa5JAwEew0Fzy3ws0ZA.jpg\"/></div> <div class=\"image-overlay\"></div></a><a class=\"c-tile t-hover\" href=\"/comics/picture/Giantess-Club-Comics/Mrs_-Turner/Issue-1/3\" title=\"Mrs._Turner_1_Page_03\"> <div class=\"image\"><img class=\"lazyload\" data-src=\"/image/th/ry1Q+JJvBLRYC70aF4c38I5STu3UDaVSUlmsa7ke7D9Pu21eDvfhXd971Z9ELUHPPT-gUqqXSqNRCW1B5Bbyuzqd8y7uw8dIIjr0bffT9xT0Relv26zl+tW5YXC7cTpLrgihhFu230Nulrm7kFZLRA.jpg\"/></div> <div class=\"image-overlay\"></div></a><a class=\"c-tile t-hover\" href=\"/comics/picture/Giantess-Club-Comics/Mrs_-Turner/Issue-1/4\" title=\"Mrs._Turner_1_Page_04\"> <div class=\"image\"><img class=\"lazyload\" data-src=\"/image/th/ry1Q+JJvBLRYC70aF4c38I5STu3UDaVSUlmsa7ke7D9Pu21eDvfhXd971Z9ELUHPPT-gUqqXSqNRCW1B5BbyuwBPIMxFdDad5r4aTUGXQKpsJTyC5OtdWWcOXAJxFXN3tAh2WYZ6tiEFZnzHI12sPw.jpg\"/></div> <div class=\"image-overlay\"></div></a><a class=\"c-tile t-hover\" href=\"/comics/picture/Giantess-Club-Comics/Mrs_-Turner/Issue-1/5\" title=\"Mrs._Turner_1_Page_05\"> <div class=\"image\"><img class=\"lazyload\" data-src=\"/image/th/ry1Q+JJvBLRYC70aF4c38I5STu3UDaVSUlmsa7ke7D9Pu21eDvfhXd971Z9ELUHPPT-gUqqXSqNRCW1B5Bbyu3uEP36iDQLRgJYebL7ud-CS-n1rCUwLk6CoJ1KynleSdjZaEmFyYm1DNoSMMM8Fdw.jpg\"/></div> <div class=\"image-overlay\"></div></a><a class=\"c-tile t-hover\" href=\"/comics/picture/Giantess-Club-Comics/Mrs_-Turner/Issue-1/6\" title=\"Mrs._Turner_1_Page_06\"> <div class=\"image\"><img class=\"lazyload\" data-src=\"/image/th/ry1Q+JJvBLRYC70aF4c38I5STu3UDaVSUlmsa7ke7D9Pu21eDvfhXd971Z9ELUHPPT-gUqqXSqNRCW1B5Bbyu8PuSkmRK78B43I1fSxWNYP8SzAEjSfbI7dmcC6i3Sbiovzb09Kde07-XtPPhZFxig.jpg\"/></div> <div class=\"image-overlay\"></div></a><a class=\"c-tile t-hover\" href=\"/comics/picture/Giantess-Club-Comics/Mrs_-Turner/Issue-1/7\" title=\"Mrs._Turner_1_Page_07\"> <div class=\"image\"><img class=\"lazyload\" data-src=\"/image/th/ry1Q+JJvBLRYC70aF4c38I5STu3UDaVSUlmsa7ke7D9Pu21eDvfhXd971Z9ELUHPPT-gUqqXSqNRCW1B5Bbyu98VMr2W-hQ0VnJ6T113dDgMpCwbyOH-IIeRd64Jojv9JSY-8gdsdmN3AfGH07Irlg.jpg\"/></div> <div class=\"image-overlay\"></div></a><a class=\"c-tile t-hover\" href=\"/comics/picture/Giantess-Club-Comics/Mrs_-Turner/Issue-1/8\" title=\"Mrs._Turner_1_Page_08\"> <div class=\"image\"><img class=\"lazyload\" data-src=\"/image/th/ry1Q+JJvBLRYC70aF4c38I5STu3UDaVSUlmsa7ke7D9Pu21eDvfhXd971Z9ELUHPPT-gUqqXSqNRCW1B5BbyuyAoOOk5DVJxtV3rwxANDbNqShBUmq1foyylg0UU679xfn6ZqxCHnMUfV5Niojnk-g.jpg\"/></div> <div class=\"image-overlay\"></div></a><a class=\"c-tile t-hover\" href=\"/comics/picture/Giantess-Club-Comics/Mrs_-Turner/Issue-1/9\" title=\"Mrs._Turner_1_Page_09\"> <div class=\"image\"><img class=\"lazyload\" data-src=\"/image/th/ry1Q+JJvBLRYC70aF4c38I5STu3UDaVSUlmsa7ke7D9Pu21eDvfhXd971Z9ELUHPPT-gUqqXSqNRCW1B5Bbyu2XRsCOnOmQScwtji8neYfrlG0wNFlYQKudtxAxHQFygzC9BCqJffbzwgrPIst7VCA.jpg\"/></div> <div class=\"image-overlay\"></div></a><a class=\"c-tile t-hover\" href=\"/comics/picture/Giantess-Club-Comics/Mrs_-Turner/Issue-1/10\" title=\"Mrs._Turner_1_Page_10\"> <div class=\"image\"><img class=\"lazyload\" data-src=\"/image/th/ry1Q+JJvBLRYC70aF4c38I5STu3UDaVSUlmsa7ke7D9Pu21eDvfhXd971Z9ELUHPPT-gUqqXSqNRCW1B5Bbyu9njm8xLakYO2QrbzW-5ruEd5vGIBDHZ+3DOWRvx-MDtM6jj+sKcbH1u7fbQaUe5WA.jpg\"/></div> <div class=\"image-overlay\"></div></a><a class=\"c-tile t-hover\" href=\"/comics/picture/Giantess-Club-Comics/Mrs_-Turner/Issue-1/11\" title=\"Mrs._Turner_1_Page_11\"> <div class=\"image\"><img class=\"lazyload\" data-src=\"/image/th/ry1Q+JJvBLRYC70aF4c38I5STu3UDaVSUlmsa7ke7D9Pu21eDvfhXd971Z9ELUHPPT-gUqqXSqNRCW1B5BbyuxIBGhn1i1iQEt4LfRbxMcemyNm3fls2bcW-UIFss13VKJMcuu09rTk4kmqvjjHe1Q.jpg\"/></div> <div class=\"image-overlay\"></div></a><a class=\"c-tile t-hover\" href=\"/comics/picture/Giantess-Club-Comics/Mrs_-Turner/Issue-1/12\" title=\"Mrs._Turner_1_Page_12\"> <div class=\"image\"><img class=\"lazyload\" data-src=\"/image/th/ry1Q+JJvBLRYC70aF4c38I5STu3UDaVSUlmsa7ke7D9Pu21eDvfhXd971Z9ELUHPPT-gUqqXSqNRCW1B5Bbyu6l6wwIDcLK5y1Vyxel0VzoodeLWsMYjAZvAD-Hrho5UUYPBgZpYFdp3LDAJW8WoXQ.jpg\"/></div> <div class=\"image-overlay\"></div></a><a class=\"c-tile t-hover\" href=\"/comics/picture/Giantess-Club-Comics/Mrs_-Turner/Issue-1/13\" title=\"Mrs._Turner_1_Page_13\"> <div class=\"image\"><img class=\"lazyload\" data-src=\"/image/th/ry1Q+JJvBLRYC70aF4c38I5STu3UDaVSUlmsa7ke7D9Pu21eDvfhXd971Z9ELUHPPT-gUqqXSqNRCW1B5Bbyu2WcVFPGGXfS5A0H83-HdDaNvtXU0yYRrkPFn1Px+C7DjNtMawdZwlqMBJlr4VD4qw.jpg\"/></div> <div class=\"image-overlay\"></div></a> </div></div> <script id=\"ractive-public\" type=\"text/plain\">\t\t!LQFQiLN[Q2=3F&gt;QiLQ?2&gt;6QiQxDDF6 `Q[Q:5Qia_cdb[QA2E9QiQv:2?E6DD r=F3 r@&gt;:4D^|CD] %FC?6C^xDDF6 `Q[Q?@C&gt;2=:K65!2E9QiQv:2?E6DD r=F3 r@&gt;:4D^|CD] %FC?6C^xDDF6 _____`hhhhhhQ[Q4@G6Cx5Qiedchhc[Q:Dr@G6C{@4&lt;65Qi72=D6[QA6C&gt;2=:?&lt;QiQv:2?E6DD\\r=F3\\r@&gt;:4D^|CD0\\%FC?6C^xDDF6\\`Q[Q:D!C:G2E6Qi72=D6[Q?F&gt;36C':6HDQigg__b[Q?F&gt;36C{:&lt;6DQi_[QFA52E65pEQiQa_`g\\_g\\`f%`fib`ibd]___+Q[QA2C6?Ex5Qia_cda[Q04@G6CQiLNN[Q2=3F&gt;DQi,.[QA286Qi`[QA286DQi_[QA2C6?EDQi,LQA6C&gt;2=:?&lt;QiQv:2?E6DD\\r=F3\\r@&gt;:4DQ[Q?2&gt;6QiQv:2?E6DD r=F3 r@&gt;:4DQN[LQ?2&gt;6QiQ|CD] %FC?6CQ[QA6C&gt;2=:?&lt;QiQv:2?E6DD\\r=F3\\r@&gt;:4D^|CD0\\%FC?6CQN.[QA:4EFC6DQi,LQ?2&gt;6QiQ|CD]0%FC?6C0`0!2860_`Q[QAF3=:4&amp;C:QiQCJ`\"ZyyGq{#*rf_2uc4bgxd$%Fb&amp;s2'$&amp;=&gt;D2f&lt;6fsh!Fa`6sG79)5hf`+ht{&amp;w!!%\\8&amp;BB)$B}#r(`qdq3JF\\CDb`v*E%'u\"}{I(?b#cuZ3+7;&lt;rC`~F~v'{\"@CE+:4w~3`;#r*#f?bp54;y:**&gt;pQN[LQ?2&gt;6QiQ|CD]0%FC?6C0`0!2860_aQ[QAF3=:4&amp;C:QiQCJ`\"ZyyGq{#*rf_2uc4bgxd$%Fb&amp;s2'$&amp;=&gt;D2f&lt;6fsh!Fa`6sG79)5hf`+ht{&amp;w!!%\\8&amp;BB)$B}#r(`qdq3JFeHb@*#a_$p#s2dhw#=e6:Gz&amp;&lt;Z5&gt;@&lt;e_C_qC7(:``du)deD2dypHt6H_uKJbHD_+pQN[LQ?2&gt;6QiQ|CD]0%FC?6C0`0!2860_bQ[QAF3=:4&amp;C:QiQCJ`\"ZyyGq{#*rf_2uc4bgxd$%Fb&amp;s2'$&amp;=&gt;D2f&lt;6fsh!Fa`6sG79)5hf`+ht{&amp;w!!%\\8&amp;BB)$B}#r(`qdq3JFKB5gJfFHg5xx;C_377%hI%_#6=GaeK=ZE(d*)rf4%A{C8:99uFab_}F=C&gt;f&lt;u+{#pQN[LQ?2&gt;6QiQ|CD]0%FC?6C0`0!2860_cQ[QAF3=:4&amp;C:QiQCJ`\"ZyyGq{#*rf_2uc4bgxd$%Fb&amp;s2'$&amp;=&gt;D2f&lt;6fsh!Fa`6sG79)5hf`+ht{&amp;w!!%\\8&amp;BB)$B}#r(`qdq3JFHq!x|Iu5s25dCc2%&amp;v)\"zADy%Jrd~E5((4~)pyIu)}bEp9a(*+eE:tu+?Kwx`aD!HQN[LQ?2&gt;6QiQ|CD]0%FC?6C0`0!2860_dQ[QAF3=:4&amp;C:QiQCJ`\"ZyyGq{#*rf_2uc4bgxd$%Fb&amp;s2'$&amp;=&gt;D2f&lt;6fsh!Fa`6sG79)5hf`+ht{&amp;w!!%\\8&amp;BB)$B}#r(`qdq3JFbFt!be:s\"{#8y*63{fF5\\r$\\?`Cr&amp;H{&lt;er@y`zJ?=6$5;+2t&gt;uJ*&gt;`s}@$|||gu5HQN[LQ?2&gt;6QiQ|CD]0%FC?6C0`0!2860_eQ[QAF3=:4&amp;C:QiQCJ`\"ZyyGq{#*rf_2uc4bgxd$%Fb&amp;s2'$&amp;=&gt;D2f&lt;6fsh!Fa`6sG79)5hf`+ht{&amp;w!!%\\8&amp;BB)$B}#r(`qdq3JFg!F$&lt;&gt;#zfgqcbx`7$I(}*!g$Kpt;$73xf5&gt;4re:b$3:@GK3_hz56_f\\)E!!9+uI:8QN[LQ?2&gt;6QiQ|CD]0%FC?6C0`0!2860_fQ[QAF3=:4&amp;C:QiQCJ`\"ZyyGq{#*rf_2uc4bgxd$%Fb&amp;s2'$&amp;=&gt;D2f&lt;6fsh!Fa`6sG79)5hf`+ht{&amp;w!!%\\8&amp;BB)$B}#r(`qdq3JFhg'|Ca(\\9\"_'?ye%``b5s8|ArH3J~w\\xx6#5ecy@;Ghy$*\\g85D5&gt;}bp7vw_fxC=8QN[LQ?2&gt;6QiQ|CD]0%FC?6C0`0!2860_gQ[QAF3=:4&amp;C:QiQCJ`\"ZyyGq{#*rf_2uc4bgxd$%Fb&amp;s2'$&amp;=&gt;D2f&lt;6fsh!Fa`6sG79)5hf`+ht{&amp;w!!%\\8&amp;BB)$B}#r(`qdq3JFJp@~~&lt;ds'yIE'bCHIp}s3}B$9q&amp;&gt;B`7@JJ=8_&amp;&amp;efhI7?e+BIrw?|&amp;7'd}:@;?&lt;\\8QN[LQ?2&gt;6QiQ|CD]0%FC?6C0`0!2860_hQ[QAF3=:4&amp;C:QiQCJ`\"ZyyGq{#*rf_2uc4bgxd$%Fb&amp;s2'$&amp;=&gt;D2f&lt;6fsh!Fa`6sG79)5hf`+ht{&amp;w!!%\\8&amp;BB)$B}#r(`qdq3JFa)#Dr~?~&gt;\"$4HE;:g?6*7C=v_H}u=*\"zF5EIpIw\"uJ8KrhqrBy773KH8C!xDEf'rpQN[LQ?2&gt;6QiQ|CD]0%FC?6C0`0!2860`_Q[QAF3=:4&amp;C:QiQCJ`\"ZyyGq{#*rf_2uc4bgxd$%Fb&amp;s2'$&amp;=&gt;D2f&lt;6fsh!Fa`6sG79)5hf`+ht{&amp;w!!%\\8&amp;BB)$B}#r(`qdq3JFh?;&gt;gI{2&lt;*~a\"C3K(\\dCFt5dGvxqsw+Zbs~(#GI\\|sE|e;;ZDz43w`Ff73\"2&amp;6d(pQN[LQ?2&gt;6QiQ|CD]0%FC?6C0`0!2860``Q[QAF3=:4&amp;C:QiQCJ`\"ZyyGq{#*rf_2uc4bgxd$%Fb&amp;s2'$&amp;=&gt;D2f&lt;6fsh!Fa`6sG79)5hf`+ht{&amp;w!!%\\8&amp;BB)$B}#r(`qdq3JFIxqv9?`:`:\"tEc{7#3I|46&gt;J}&gt;b7=Da34(\\&amp;xuDD`b'zy|4FF_hC%&lt;c&lt;&gt;BG;;w6`\"QN[LQ?2&gt;6QiQ|CD]0%FC?6C0`0!2860`aQ[QAF3=:4&amp;C:QiQCJ`\"ZyyGq{#*rf_2uc4bgxd$%Fb&amp;s2'$&amp;=&gt;D2f&lt;6fsh!Fa`6sG79)5hf`+ht{&amp;w!!%\\8&amp;BB)$B}#r(`qdq3JFe=eHHxs4{zdJ`'JI6=_'K@@56{(D|*;p+Gps\\wC9@d&amp;&amp;*!q8+A*u5Ab{spy(g(@)\"QN[LQ?2&gt;6QiQ|CD]0%FC?6C0`0!2860`bQ[QAF3=:4&amp;C:QiQCJ`\"ZyyGq{#*rf_2uc4bgxd$%Fb&amp;s2'$&amp;=&gt;D2f&lt;6fsh!Fa`6sG79)5hf`+ht{&amp;w!!%\\8&amp;BB)$B}#r(`qdq3JFa(4'u!vv)7$dp_wgb\\w5s2}GE)&amp;_J*#C&lt;!u?`!IZrfs;}E|2H5+H=B|qy=Cc'scBHQN.[QE28DQi,.[QD@CEQiQ2KQ[QFD6CQi72=D6[QD@CE~AE:@?DQiLQG:6HQiQ':6HDQ[Q=:&lt;6QiQ{:&lt;6DQ[Q52E6QiQs2E6Q[Q2KQiQp\\+QN[Q25x?56I6DQi,a[h[\\`.N\n",
      "\t</script> <script id=\"ractive-private\" type=\"text/plain\">\t\t!LQ25D{@42E:@?QiQ(@C=5QN\n",
      "\t</script> <script id=\"ractive-shared\" type=\"text/plain\">\t\t!LQ2DD6ED'6CD:@?QiQab2fgh3bd57cdceeg`_47ef77`cg3h4dhgb77b2eQ[QC@FE6QiQ2=3F&gt;Q[QA2C2&gt;DQiLQA6C&gt;2=:?&lt;QiQv:2?E6DD\\r=F3\\r@&gt;:4D^|CD0\\%FC?6C^xDDF6\\`QN[QBD!2C2&gt;DQiLN[Q@AE:@?DQiLQ32??6Cs6D&lt;E@Ax?D:56p=3F&gt;D`&amp;$pQiQk:7C2&gt;6 DC4l-Q9EEADi^^25D]EC277:4;F?&lt;J]?6E^25DnK@?60:5l`gaa`d`UD:E60:5laeefb`U7@C&gt;2Elw%|{U42496l`daebb`_ce-Q H:5E9l-Qb__-Q 96:89El-Qad_-Q D4C@==:?8l-Q?@-Q 7C2&gt;63@C56Cl-Q_-Q 2==@HEC2?DA2C6?4Jl-QECF6-Q &gt;2C8:?H:5E9l-Q_-Q &gt;2C8:?96:89El-Q_-Qmk^:7C2&gt;6mQ[Q32??6Cs6D&lt;E@Ax?D:56p=3F&gt;Da&amp;$pQiQk:7C2&gt;6 DC4l-Q9EEADi^^25D]EC277:4;F?&lt;J]?6E^25DnK@?60:5l`gaa`d`UD:E60:5laeefb`U7@C&gt;2Elw%|{U42496l`daebb`_ce-Q H:5E9l-Qb__-Q 96:89El-Qad_-Q D4C@==:?8l-Q?@-Q 7C2&gt;63@C56Cl-Q_-Q 2==@HEC2?DA2C6?4Jl-QECF6-Q &gt;2C8:?H:5E9l-Q_-Q &gt;2C8:?96:89El-Q_-Qmk^:7C2&gt;6mQ[Q32??6Cs6D&lt;E@Ax?D:56p=3F&gt;DbZ&amp;$pQiQk:7C2&gt;6 DC4l-Q9EEADi^^25D]EC277:4;F?&lt;J]?6E^25DnK@?60:5l`gaa`d`UD:E60:5laeefb`U7@C&gt;2Elw%|{U42496l`daebb`_ce-Q H:5E9l-Qb__-Q 96:89El-Qad_-Q D4C@==:?8l-Q?@-Q 7C2&gt;63@C56Cl-Q_-Q 2==@HEC2?DA2C6?4Jl-QECF6-Q &gt;2C8:?H:5E9l-Q_-Q &gt;2C8:?96:89El-Q_-Qmk^:7C2&gt;6mQ[Q32??6Cs6D&lt;E@Ax?D:56p=3F&gt;D`(@C=5QiQk:7C2&gt;6 DC4l-Q9EEADi^^25D]EC277:4;F?&lt;J]?6E^25DnK@?60:5l`gaa`d`UD:E60:5laeefb`U7@C&gt;2Elw%|{U42496l`daebb`_ce-Q H:5E9l-Qb__-Q 96:89El-Qad_-Q D4C@==:?8l-Q?@-Q 7C2&gt;63@C56Cl-Q_-Q 2==@HEC2?DA2C6?4Jl-QECF6-Q &gt;2C8:?H:5E9l-Q_-Q &gt;2C8:?96:89El-Q_-Qmk^:7C2&gt;6mQ[Q32??6Cs6D&lt;E@Ax?D:56p=3F&gt;Da(@C=5QiQk:7C2&gt;6 DC4l-Q9EEADi^^25D]EC277:4;F?&lt;J]?6E^25DnK@?60:5l`gaa`d`UD:E60:5laeefb`U7@C&gt;2Elw%|{U42496l`daebb`_ce-Q H:5E9l-Qb__-Q 96:89El-Qad_-Q D4C@==:?8l-Q?@-Q 7C2&gt;63@C56Cl-Q_-Q 2==@HEC2?DA2C6?4Jl-QECF6-Q &gt;2C8:?H:5E9l-Q_-Q &gt;2C8:?96:89El-Q_-Qmk^:7C2&gt;6mQ[Q32??6Cs6D&lt;E@Ax?D:56p=3F&gt;DbZ(@C=5QiQk:7C2&gt;6 DC4l-Q9EEADi^^25D]EC277:4;F?&lt;J]?6E^25DnK@?60:5l`gaa`d`UD:E60:5laeefb`U7@C&gt;2Elw%|{U42496l`daebb`_ce-Q H:5E9l-Qb__-Q 96:89El-Qad_-Q D4C@==:?8l-Q?@-Q 7C2&gt;63@C56Cl-Q_-Q 2==@HEC2?DA2C6?4Jl-QECF6-Q &gt;2C8:?H:5E9l-Q_-Q &gt;2C8:?96:89El-Q_-Qmk^:7C2&gt;6mQ[Q32??6Cs6D&lt;E@A!:4EFC6{67Ew@&gt;6p?5p=3F&gt;D&amp;$pQiQk:7C2&gt;6 DC4l-Q9EEADi^^25D]EC277:4;F?&lt;J]?6E^25DnK@?60:5l`gaa`e`UD:E60:5laeefb`U7@C&gt;2Elw%|{U42496l`daebb`_hh-Q H:5E9l-Q`e_-Q 96:89El-Qe__-Q D4C@==:?8l-Q?@-Q 7C2&gt;63@C56Cl-Q_-Q 2==@HEC2?DA2C6?4Jl-QECF6-Q &gt;2C8:?H:5E9l-Q_-Q &gt;2C8:?96:89El-Q_-Qmk^:7C2&gt;6mQ[Q32??6Cs6D&lt;E@A!:4EFC6{67Ew@&gt;6p?5p=3F&gt;D(@C=5QiQk:7C2&gt;6 DC4l-Q9EEADi^^25D]EC277:4;F?&lt;J]?6E^25DnK@?60:5l`gaa`e`UD:E60:5laeefb`U7@C&gt;2Elw%|{U42496l`daebb`_hh-Q H:5E9l-Q`e_-Q 96:89El-Qe__-Q D4C@==:?8l-Q?@-Q 7C2&gt;63@C56Cl-Q_-Q 2==@HEC2?DA2C6?4Jl-QECF6-Q &gt;2C8:?H:5E9l-Q_-Q &gt;2C8:?96:89El-Q_-Qmk^:7C2&gt;6mQ[Q32??6Cs6D&lt;E@A!:4EFC6{67Ex?D:56x&gt;286D&amp;$pQiQk:7C2&gt;6 DC4l-Q9EEADi^^25D]EC277:4;F?&lt;J]?6E^25DnK@?60:5l`gaa`e`UD:E60:5laeefb`U7@C&gt;2Elw%|{U42496l`daebb`_hh-Q H:5E9l-Q`e_-Q 96:89El-Qe__-Q D4C@==:?8l-Q?@-Q 7C2&gt;63@C56Cl-Q_-Q 2==@HEC2?DA2C6?4Jl-QECF6-Q &gt;2C8:?H:5E9l-Q_-Q &gt;2C8:?96:89El-Q_-Qmk^:7C2&gt;6mQ[Q32??6Cs6D&lt;E@A!:4EFC6{67Ex?D:56x&gt;286D(@C=5QiQk:7C2&gt;6 DC4l-Q9EEADi^^25D]EC277:4;F?&lt;J]?6E^25DnK@?60:5l`gaa`e`UD:E60:5laeefb`U7@C&gt;2Elw%|{U42496l`daebb`_hh-Q H:5E9l-Q`e_-Q 96:89El-Qe__-Q D4C@==:?8l-Q?@-Q 7C2&gt;63@C56Cl-Q_-Q 2==@HEC2?DA2C6?4Jl-QECF6-Q &gt;2C8:?H:5E9l-Q_-Q &gt;2C8:?96:89El-Q_-Qmk^:7C2&gt;6mQ[Q32??6Cs6D&lt;E@A!:4EFC6#:89Ex?D:56x&gt;286D&amp;$pQiQk:7C2&gt;6 DC4l-Q9EEADi^^25D]EC277:4;F?&lt;J]?6E^25DnK@?60:5l`gaa`f`UD:E60:5laeefb`U7@C&gt;2Elw%|{U42496l`daebb``_h-Q H:5E9l-Q`e_-Q 96:89El-Qe__-Q D4C@==:?8l-Q?@-Q 7C2&gt;63@C56Cl-Q_-Q 2==@HEC2?DA2C6?4Jl-QECF6-Q &gt;2C8:?H:5E9l-Q_-Q &gt;2C8:?96:89El-Q_-Qmk^:7C2&gt;6mQ[Q32??6Cs6D&lt;E@A!:4EFC6#:89Ex?D:56x&gt;286D(@C=5QiQk:7C2&gt;6 DC4l-Q9EEADi^^25D]EC277:4;F?&lt;J]?6E^25DnK@?60:5l`gaa`f`UD:E60:5laeefb`U7@C&gt;2Elw%|{U42496l`daebb``_h-Q H:5E9l-Q`e_-Q 96:89El-Qe__-Q D4C@==:?8l-Q?@-Q 7C2&gt;63@C56Cl-Q_-Q 2==@HEC2?DA2C6?4Jl-QECF6-Q &gt;2C8:?H:5E9l-Q_-Q &gt;2C8:?96:89El-Q_-Qmk^:7C2&gt;6mQ[Q32??6C|@3:=6x?D:56p=3F&gt;D`&amp;$pQiQk:7C2&gt;6 DC4l-Q9EEADi^^25D]EC277:4;F?&lt;J]?6E^25DnK@?60:5l`gaa`g`UD:E60:5laeefb`U7@C&gt;2Elw%|{U42496l`daebb``a`-Q H:5E9l-Qb__-Q 96:89El-Qad_-Q D4C@==:?8l-Q?@-Q 7C2&gt;63@C56Cl-Q_-Q 2==@HEC2?DA2C6?4Jl-QECF6-Q &gt;2C8:?H:5E9l-Q_-Q &gt;2C8:?96:89El-Q_-Qmk^:7C2&gt;6mQ[Q32??6C|@3:=6x?D:56p=3F&gt;Da&amp;$pQiQk:7C2&gt;6 DC4l-Q9EEADi^^25D]EC277:4;F?&lt;J]?6E^25DnK@?60:5l`gaa`g`UD:E60:5laeefb`U7@C&gt;2Elw%|{U42496l`daebb``a`-Q H:5E9l-Qb__-Q 96:89El-Qad_-Q D4C@==:?8l-Q?@-Q 7C2&gt;63@C56Cl-Q_-Q 2==@HEC2?DA2C6?4Jl-QECF6-Q &gt;2C8:?H:5E9l-Q_-Q &gt;2C8:?96:89El-Q_-Qmk^:7C2&gt;6mQ[Q32??6C|@3:=6x?D:56p=3F&gt;DbZ&amp;$pQiQk:7C2&gt;6 DC4l-Q9EEADi^^25D]EC277:4;F?&lt;J]?6E^25DnK@?60:5l`gaa`g`UD:E60:5laeefb`U7@C&gt;2Elw%|{U42496l`daebb``a`-Q H:5E9l-Qb__-Q 96:89El-Qad_-Q D4C@==:?8l-Q?@-Q 7C2&gt;63@C56Cl-Q_-Q 2==@HEC2?DA2C6?4Jl-QECF6-Q &gt;2C8:?H:5E9l-Q_-Q &gt;2C8:?96:89El-Q_-Qmk^:7C2&gt;6mQ[Q32??6C|@3:=6x?D:56p=3F&gt;D`(@C=5QiQk:7C2&gt;6 DC4l-Q9EEADi^^25D]EC277:4;F?&lt;J]?6E^25DnK@?60:5l`gaa`g`UD:E60:5laeefb`U7@C&gt;2Elw%|{U42496l`daebb``a`-Q H:5E9l-Qb__-Q 96:89El-Qad_-Q D4C@==:?8l-Q?@-Q 7C2&gt;63@C56Cl-Q_-Q 2==@HEC2?DA2C6?4Jl-QECF6-Q &gt;2C8:?H:5E9l-Q_-Q &gt;2C8:?96:89El-Q_-Qmk^:7C2&gt;6mQ[Q32??6C|@3:=6x?D:56p=3F&gt;Da(@C=5QiQk:7C2&gt;6 DC4l-Q9EEADi^^25D]EC277:4;F?&lt;J]?6E^25DnK@?60:5l`gaa`g`UD:E60:5laeefb`U7@C&gt;2Elw%|{U42496l`daebb``a`-Q H:5E9l-Qb__-Q 96:89El-Qad_-Q D4C@==:?8l-Q?@-Q 7C2&gt;63@C56Cl-Q_-Q 2==@HEC2?DA2C6?4Jl-QECF6-Q &gt;2C8:?H:5E9l-Q_-Q &gt;2C8:?96:89El-Q_-Qmk^:7C2&gt;6mQ[Q32??6C|@3:=6x?D:56p=3F&gt;DbZ(@C=5QiQk:7C2&gt;6 DC4l-Q9EEADi^^25D]EC277:4;F?&lt;J]?6E^25DnK@?60:5l`gaa`g`UD:E60:5laeefb`U7@C&gt;2Elw%|{U42496l`daebb``a`-Q H:5E9l-Qb__-Q 96:89El-Qad_-Q D4C@==:?8l-Q?@-Q 7C2&gt;63@C56Cl-Q_-Q 2==@HEC2?DA2C6?4Jl-QECF6-Q &gt;2C8:?H:5E9l-Q_-Q &gt;2C8:?96:89El-Q_-Qmk^:7C2&gt;6mQ[Q32??6C|@3:=6&amp;?56Cx&gt;286&amp;$pQiQk:7C2&gt;6 DC4l-Q9EEADi^^25D]EC277:4;F?&lt;J]?6E^25DnK@?60:5l`gaaa_`UD:E60:5laeefb`U7@C&gt;2Elw%|{U42496l`daebb``cg-Q H:5E9l-Qb__-Q 96:89El-Q`__-Q D4C@==:?8l-Q?@-Q 7C2&gt;63@C56Cl-Q_-Q 2==@HEC2?DA2C6?4Jl-QECF6-Q &gt;2C8:?H:5E9l-Q_-Q &gt;2C8:?96:89El-Q_-Qmk^:7C2&gt;6mQ[Q32??6C|@3:=6&amp;?56Cx&gt;286(@C=5QiQk:7C2&gt;6 DC4l-Q9EEADi^^25D]EC277:4;F?&lt;J]?6E^25DnK@?60:5l`gaaa_`UD:E60:5laeefb`U7@C&gt;2Elw%|{U42496l`daebb``cg-Q H:5E9l-Qb__-Q 96:89El-Q`__-Q D4C@==:?8l-Q?@-Q 7C2&gt;63@C56Cl-Q_-Q 2==@HEC2?DA2C6?4Jl-QECF6-Q &gt;2C8:?H:5E9l-Q_-Q &gt;2C8:?96:89El-Q_-Qmk^:7C2&gt;6mQ[QA:4EFC6w@DEQiQQ[Q32??6C|@3:=6q@EE@&gt;QiQk&gt;6E2 ?2&gt;6l-Q25D3JEC277:4;F?&lt;J4@?E6IE-Q 52E2\\D:E6\\:5l-Qaeefb`-Q 52E2\\D:E6l-Qg&gt;FD6D-Q 52E2\\A=2E7@C&gt;l-Q&gt;@3:=6-Qm-?kD4C:AE 2DJ?4m-?P7F?4E:@?W6XLG2C E[5[?l-Q6Dd-Qj-QF?567:?65-QPlEJA6@7 !C@&gt;:D6UU\\`Pll!C@&gt;:D6]E@$EC:?8WX]:?56I~7W-Q,?2E:G6 4@56.-QXUUW?l-Q6De-QX[El-Q9EEADi^^DE2E:4]EC277:4;F?&lt;J]4@&gt;^:?G@42E:@?^6&gt;36556525D^AC@5F4E:@?^6&gt;36556525D]-QZ?Z-Q]&gt;:?];D-Q[W5l5@4F&gt;6?E]4C62E6t=6&gt;6?EW-QD4C:AE-QXX]EJA6l-QE6IE^;2G2D4C:AE-Q[5]2DJ?4lP_[5]DC4lE[5@4F&gt;6?E]86Et=6&gt;6?EDqJ%28}2&gt;6W-Q9625-QX,_.]2AA6?5r9:=5W5XNWXj-?k^D4C:AEm-?-?k:?D 4=2DDl-Q25D3JEC277:4;F?&lt;J-Q 52E2\\DA@E\\:5l-Q`gaa`h`-Q 52E2\\H:5E9l-Qb__AI-Q 52E2\\96:89El-Q`__AI-Q 52E2\\EJA6l-Q3@EE@&gt;-Qmk^:?DmQ[Q@AE:@?D'6CD:@?QiQ`_dQ[Q32??6C%6DEp5QiQk:7C2&gt;6 DC4l-Q9EEADi^^25D]EC277:4;F?&lt;J]?6E^25DnK@?60:5l`gaa`d`UD:E60:5laeefb`U7@C&gt;2Elw%|{U42496l`daebb`_ce-Q H:5E9l-Qb__-Q 96:89El-Qad_-Q D4C@==:?8l-Q?@-Q 7C2&gt;63@C56Cl-Q_-Q 2==@HEC2?DA2C6?4Jl-QECF6-Q &gt;2C8:?H:5E9l-Q_-Q &gt;2C8:?96:89El-Q_-Qmk^:7C2&gt;6m-C-?k5:G DEJ=6l-Q96:89Ei `___AIj-Qmk^5:Gm-C-?k:7C2&gt;6 DC4l-Q9EEADi^^25D]EC277:4;F?&lt;J]?6E^25DnK@?60:5l`gaa`d`UD:E60:5laeefb`U7@C&gt;2Elw%|{U42496l`daebb`_ce-Q H:5E9l-Qb__-Q 96:89El-Qad_-Q D4C@==:?8l-Q?@-Q 7C2&gt;63@C56Cl-Q_-Q 2==@HEC2?DA2C6?4Jl-QECF6-Q &gt;2C8:?H:5E9l-Q_-Q &gt;2C8:?96:89El-Q_-Qmk^:7C2&gt;6mQNN\n",
      "\t</script></div> </div></div> <script src=\"https://cdn.polyfill.io/v2/polyfill.min.js\"></script> <script src=\"https://cdn.jsdelivr.net/npm/ractive@1.3.7/runtime.min.js\"></script> <script src=\"https://cdn.jsdelivr.net/npm/ractive-route@0.3.9/ractive-route.min.js\"></script> <script src=\"https://cdn.jsdelivr.net/npm/hammerjs@2.0.8/hammer.min.js\"></script> <script src=\"https://cdn.jsdelivr.net/npm/cookies-js@1.2.3/dist/cookies.min.js\"></script> <script src=\"/js/bundle-guest.js?v=23a789b35df45466810cf67ff148b9c5983ff3a6\"></script> <script src=\"https://cdn.jsdelivr.net/npm/lazysizes@3.0.0\"></script> <script type=\"text/javascript\">\t\t\t\t/* eslint-disable */\n",
      "\t\t\t\t(function (d, w, c) { (w[c] = w[c] || []).push(function() { try { w.yaCounter33013864 = new Ya.Metrika({ id:33013864, clickmap:true, trackLinks:true, accurateTrackBounce:true, trackHash:true }); } catch(e) { } }); var n = d.getElementsByTagName(\"script\")[0], s = d.createElement(\"script\"), f = function () { n.parentNode.insertBefore(s, n); }; s.type = \"text/javascript\"; s.async = true; s.src = \"https://cdn.jsdelivr.net/npm/yandex-metrica-watch/watch.js\"; if (w.opera == \"[object Opera]\") { d.addEventListener(\"DOMContentLoaded\", f, false); } else { f(); } })(document, window, \"yandex_metrika_callbacks\");\n",
      "\t\t\t</script> <noscript><div><img alt=\"\" src=\"https://mc.yandex.ru/watch/33013864\" style=\"position:absolute; left:-9999px;\"/></div></noscript> <script async=\"\" src=\"https://rum.perfops.net/rum.min.js\"></script></body></html>\n"
     ]
    }
   ],
   "source": [
    "#url_ = \"https://www.porncomix.info/dna-2-jabcomix/\"\n",
    "url_ = 'https://www.8muses.com/comics/album/Giantess-Club-Comics/Mrs_-Turner/Issue-1'\n",
    "\n",
    "\n",
    "r = get(url_, headers={\"User-Agent\":\"Mozilla/5.0 (X11; Linux x86_64; rv:74.0) Gecko/20100101 Firefox/74.0\"})\n",
    "title = '8m'\n",
    "\n",
    "directory = '/home/karan/Downloads/' + title + '/'\n",
    "os.mkdir(directory)\n",
    "\n",
    "html = BeautifulSoup(r.content, \"html.parser\")\n",
    "\n",
    "count = 0\n",
    "\n",
    "img_arr = []\n",
    "\n",
    "print(html)"
   ]
  },
  {
   "cell_type": "code",
   "execution_count": 4,
   "metadata": {},
   "outputs": [
    {
     "name": "stdout",
     "output_type": "stream",
     "text": [
      "/comics/picture/Giantess-Club-Comics/Mrs_-Turner/Issue-1/1\n",
      "/comics/picture/Giantess-Club-Comics/Mrs_-Turner/Issue-1/2\n",
      "/comics/picture/Giantess-Club-Comics/Mrs_-Turner/Issue-1/3\n",
      "/comics/picture/Giantess-Club-Comics/Mrs_-Turner/Issue-1/4\n",
      "/comics/picture/Giantess-Club-Comics/Mrs_-Turner/Issue-1/5\n",
      "/comics/picture/Giantess-Club-Comics/Mrs_-Turner/Issue-1/6\n",
      "/comics/picture/Giantess-Club-Comics/Mrs_-Turner/Issue-1/7\n",
      "/comics/picture/Giantess-Club-Comics/Mrs_-Turner/Issue-1/8\n",
      "/comics/picture/Giantess-Club-Comics/Mrs_-Turner/Issue-1/9\n",
      "/comics/picture/Giantess-Club-Comics/Mrs_-Turner/Issue-1/10\n",
      "/comics/picture/Giantess-Club-Comics/Mrs_-Turner/Issue-1/11\n",
      "/comics/picture/Giantess-Club-Comics/Mrs_-Turner/Issue-1/12\n",
      "/comics/picture/Giantess-Club-Comics/Mrs_-Turner/Issue-1/13\n"
     ]
    }
   ],
   "source": [
    "count = 0\n",
    "\n",
    "for img_page in html.find_all(\"a\", class_=\"c-tile t-hover\"):\n",
    "    count = count + 1\n",
    "    #print(a.attrs['href'])\n",
    "    b = get('http://8muses.com' + img_page.attrs['href'])\n",
    "\n",
    "    if count < 10:\n",
    "        count_str = \"0\" + str(count)\n",
    "    else:\n",
    "        count_str = str(count)\n",
    "\n",
    "    page_img = BeautifulSoup(b.content, \"html.parser\").find_all(\"img\", class_=\"image\")\n",
    "    print(page_img)\n",
    "\n",
    "    c = get('http://8muses.com/' + page_img)\n",
    "\n",
    "    img_arr.append('/home/karan/Downloads/' + title +\n",
    "                   '/' + title + (count_str) + \".jpg\")\n",
    "\n",
    "    with open('/home/karan/Downloads/' + title + '/' + title + (count_str) + \".jpg\", 'wb') as f:\n",
    "        f.write(c.content)\n",
    "        print(title + (count_str))\n",
    "\n",
    "print(img_arr)\n",
    "\n",
    "\n",
    "with open(\"Comix/\" + title + \".pdf\", \"wb\") as f:\n",
    "    f.write(img2pdf.convert([i for i in img_arr if i.endswith(\".jpg\")]))"
   ]
  },
  {
   "cell_type": "code",
   "execution_count": 34,
   "metadata": {
    "scrolled": true
   },
   "outputs": [
    {
     "name": "stdout",
     "output_type": "stream",
     "text": [
      "b'<!DOCTYPE HTML>\\n<html lang=\"en-US\">\\n<head>\\n  <meta charset=\"UTF-8\" />\\n  <meta http-equiv=\"Content-Type\" content=\"text/html; charset=UTF-8\" />\\n  <meta http-equiv=\"X-UA-Compatible\" content=\"IE=Edge,chrome=1\" />\\n  <meta name=\"robots\" content=\"noindex, nofollow\" />\\n  <meta name=\"viewport\" content=\"width=device-width, initial-scale=1, maximum-scale=1\" />\\n  <meta http-equiv=\"refresh\" content=\"12\">\\n  <title>Just a moment...</title>\\n  <style type=\"text/css\">\\n    html, body {width: 100%; height: 100%; margin: 0; padding: 0;}\\n    body {background-color: #ffffff; color: #000000; font-family:-apple-system, system-ui, BlinkMacSystemFont, \"Segoe UI\", Roboto, Oxygen, Ubuntu, \"Helvetica Neue\",Arial, sans-serif; font-size: 16px; line-height: 1.7em;-webkit-font-smoothing: antialiased;}\\n    h1 { text-align: center; font-weight:700; margin: 16px 0; font-size: 32px; color:#000000; line-height: 1.25;}\\n    p {font-size: 20px; font-weight: 400; margin: 8px 0;}\\n    p, .attribution, {text-align: center;}\\n    #spinner {margin: 0 auto 30px auto; display: block;}\\n    .attribution {margin-top: 32px;}\\n    @keyframes fader     { 0% {opacity: 0.2;} 50% {opacity: 1.0;} 100% {opacity: 0.2;} }\\n    @-webkit-keyframes fader { 0% {opacity: 0.2;} 50% {opacity: 1.0;} 100% {opacity: 0.2;} }\\n    #cf-bubbles > .bubbles { animation: fader 1.6s infinite;}\\n    #cf-bubbles > .bubbles:nth-child(2) { animation-delay: .2s;}\\n    #cf-bubbles > .bubbles:nth-child(3) { animation-delay: .4s;}\\n    .bubbles { background-color: #f58220; width:20px; height: 20px; margin:2px; border-radius:100%; display:inline-block; }\\n    a { color: #2c7cb0; text-decoration: none; -moz-transition: color 0.15s ease; -o-transition: color 0.15s ease; -webkit-transition: color 0.15s ease; transition: color 0.15s ease; }\\n    a:hover{color: #f4a15d}\\n    .attribution{font-size: 16px; line-height: 1.5;}\\n    .ray_id{display: block; margin-top: 8px;}\\n  </style>\\n\\n    <script type=\"text/javascript\">\\n  //<![CDATA[\\n  (function(){\\n    var a = function() {try{return !!window.addEventListener} catch(e) {return !1} },\\n    b = function(b, c) {a() ? document.addEventListener(\"DOMContentLoaded\", b, c) : document.attachEvent(\"onreadystatechange\", b)};\\n    b(function(){\\n      \\n      var a = document.getElementById(\\'cf-content\\');a.style.display = \\'block\\';\\n      var isIE = /(MSIE|Trident\\\\/|Edge\\\\/)/i.test(window.navigator.userAgent);\\n      var trkjs = isIE ? new Image() : document.createElement(\\'img\\');\\n      trkjs.setAttribute(\"src\", \"/cdn-cgi/images/trace/jschal/js/transparent.gif?ray=5773b9dadc7ac3b3\");\\n      trkjs.id = \"trk_jschal_js\";\\n      trkjs.setAttribute(\"alt\", \"\");\\n      document.body.appendChild(trkjs);\\n      \\n      setTimeout(function(){\\n        var s,t,o,p,b,r,e,a,k,i,n,g,f, eyjmPre={\"TWnafA\":+((!+[]+!![]+!![]+!![]+!![]+!![]+!![]+[])+(!+[]+!![]+!![]+!![]+!![]+!![]+!![]+!![]+!![])+(!+[]+!![]+!![]+!![]+!![]+!![]+!![])+(+[])+(+[])+(!+[]+!![]+!![])+(!+[]+!![]+!![]+!![])+(!+[]+!![]+!![])+(!+[]+!![]+!![]+!![]+!![]+!![]+!![]))/+((!+[]+!![]+!![]+!![]+!![]+!![]+!![]+!![]+!![]+[])+(!+[]+!![]+!![]+!![]+!![]+!![])+(!+[]+!![]+!![]+!![]+!![])+(!+[]+!![]+!![]+!![]+!![]+!![]+!![])+(!+[]+!![]+!![]+!![]+!![]+!![]+!![])+(!+[]+!![]+!![]+!![]+!![]+!![]+!![])+(!+[]+!![]+!![]+!![]+!![])+(!+[]+!![]+!![]+!![])+(+[]))};\\n        g = String.fromCharCode;\\n        o = \"ABCDEFGHIJKLMNOPQRSTUVWXYZabcdefghijklmnopqrstuvwxyz0123456789+/=\";\\n        e = function(s) {\\n          s += \"==\".slice(2 - (s.length & 3));\\n          var bm, r = \"\", r1, r2, i = 0;\\n          for (; i < s.length;) {\\n              bm = o.indexOf(s.charAt(i++)) << 18 | o.indexOf(s.charAt(i++)) << 12\\n                      | (r1 = o.indexOf(s.charAt(i++))) << 6 | (r2 = o.indexOf(s.charAt(i++)));\\n              r += r1 === 64 ? g(bm >> 16 & 255)\\n                      : r2 === 64 ? g(bm >> 16 & 255, bm >> 8 & 255)\\n                      : g(bm >> 16 & 255, bm >> 8 & 255, bm & 255);\\n          }\\n          return r;\\n        };\\n        t = document.createElement(\\'div\\');\\n        t.innerHTML=\"<a href=\\'/\\'>x</a>\";\\n        t = t.firstChild.href;r = t.match(/https?:\\\\/\\\\//)[0];\\n        t = t.substr(r.length); t = t.substr(0,t.length-1); k = \\'cf-dn-GRIrJgjjMhHB\\';\\n        a = document.getElementById(\\'jschl-answer\\');\\n        f = document.getElementById(\\'challenge-form\\');\\n        ;eyjmPre.TWnafA-=function(p){var p = eval(eval(e(\"ZG9jdW1l\")+(undefined+\"\")[1]+(true+\"\")[0]+(+(+!+[]+[+!+[]]+(!![]+[])[!+[]+!+[]+!+[]]+[!+[]+!+[]]+[+[]])+[])[+!+[]]+g(103)+(true+\"\")[3]+(true+\"\")[0]+\"Element\"+g(66)+(NaN+[Infinity])[10]+\"Id(\"+g(107)+\").\"+e(\"aW5uZXJIVE1M\"))); return +(p)}();eyjmPre.TWnafA-=+((!+[]+!![]+!![]+!![]+!![]+!![]+!![]+!![]+[])+(!+[]+!![]+!![])+(!+[]+!![]+!![]+!![]+!![]+!![]+!![]+!![])+(+[])+(!+[]+!![]+!![]+!![])+(+!![])+(!+[]+!![]+!![]+!![]+!![]+!![])+(!+[]+!![]+!![]+!![])+(!+[]+!![]+!![]+!![]+!![]+!![]+!![]))/+((!+[]+!![]+!![]+!![]+!![]+!![]+!![]+[])+(!+[]+!![])+(+[])+(!+[]+!![]+!![]+!![]+!![]+!![]+!![])+(!+[]+!![]+!![]+!![])+(+[])+(!+[]+!![]+!![]+!![]+!![]+!![]+!![]+!![])+(!+[]+!![]+!![])+(!+[]+!![]+!![]+!![]+!![]+!![]+!![]));eyjmPre.TWnafA-=+((!+[]+!![]+!![]+!![]+!![]+!![]+!![]+!![]+[])+(+!![])+(!+[]+!![]+!![]+!![]+!![]+!![]+!![])+(!+[]+!![]+!![]+!![]+!![])+(+[])+(!+[]+!![]+!![]+!![])+(!+[]+!![])+(!+[]+!![]+!![]+!![])+(!+[]+!![]+!![]))/(+(+((!+[]+!![]+!![]+!![]+!![]+[])+(!+[]+!![]+!![]+!![])+(+[])+(!+[]+!![]+!![]+!![])+(!+[]+!![]+!![]+!![]+!![]+!![]+!![])+(!+[]+!![]+!![]+!![]+!![])+(+[])+(!+[]+!![]+!![]+!![]+!![]+!![]+!![])+(!+[]+!![]+!![]+!![]+!![]+!![])))+(function(p){return eval((true+\"\")[0]+\".ch\"+(false+\"\")[1]+(true+\"\")[1]+Function(\"return escape\")()((\"\")[\"italics\"]())[2]+\"o\"+(undefined+\"\")[2]+(true+\"\")[3]+\"A\"+(true+\"\")[0]+\"(\"+p+\")\")}(+((+!![]+[])+(!+[]+!![]+!![])))));eyjmPre.TWnafA-=+((!+[]+!![]+!![]+!![]+!![]+!![]+!![]+[])+(!+[]+!![]+!![]+!![]+!![]+!![]+!![]+!![]+!![])+(!+[]+!![]+!![]+!![]+!![]+!![]+!![])+(+[])+(+[])+(!+[]+!![]+!![])+(!+[]+!![]+!![]+!![])+(!+[]+!![]+!![])+(!+[]+!![]+!![]+!![]+!![]+!![]+!![]))/+((!+[]+!![]+!![]+!![]+[])+(!+[]+!![]+!![]+!![]+!![])+(!+[]+!![]+!![]+!![]+!![]+!![])+(!+[]+!![]+!![])+(!+[]+!![]+!![]+!![])+(!+[]+!![]+!![]+!![]+!![]+!![]+!![]+!![])+(!+[]+!![]+!![]+!![]+!![])+(!+[]+!![]+!![]+!![]+!![]+!![]+!![]+!![])+(+[]));eyjmPre.TWnafA+=+((!+[]+!![]+!![]+!![]+!![]+!![]+!![]+!![]+[])+(+!![])+(!+[]+!![]+!![]+!![]+!![]+!![]+!![])+(!+[]+!![]+!![]+!![]+!![])+(+[])+(!+[]+!![]+!![]+!![])+(!+[]+!![])+(!+[]+!![]+!![]+!![])+(!+[]+!![]+!![]))/+((!+[]+!![]+!![]+!![]+!![]+!![]+!![]+!![]+[])+(!+[]+!![]+!![]+!![]+!![]+!![]+!![]+!![]+!![])+(!+[]+!![]+!![]+!![]+!![])+(!+[]+!![]+!![]+!![]+!![])+(!+[]+!![]+!![]+!![])+(!+[]+!![])+(!+[]+!![]+!![]+!![]+!![]+!![]+!![])+(!+[]+!![]+!![]+!![]+!![]+!![])+(!+[]+!![]+!![]+!![]+!![]));eyjmPre.TWnafA-=+((!+[]+!![]+!![]+!![]+!![]+!![]+!![]+!![]+[])+(+!![])+(!+[]+!![]+!![]+!![]+!![]+!![]+!![])+(!+[]+!![]+!![]+!![]+!![])+(+[])+(!+[]+!![]+!![]+!![])+(!+[]+!![])+(!+[]+!![]+!![]+!![]+!![])+(!+[]+!![]+!![]))/+((!+[]+!![]+!![]+!![]+!![]+!![]+!![]+!![]+!![]+[])+(!+[]+!![]+!![]+!![]+!![]+!![])+(!+[]+!![]+!![]+!![]+!![]+!![])+(+!![])+(!+[]+!![]+!![]+!![]+!![]+!![]+!![]+!![])+(+!![])+(!+[]+!![]+!![])+(!+[]+!![]+!![]+!![]+!![]+!![])+(!+[]+!![]+!![]+!![]+!![]));eyjmPre.TWnafA-=+((!+[]+!![]+!![]+!![]+!![]+!![]+!![]+!![]+[])+(+!![])+(!+[]+!![]+!![]+!![]+!![]+!![]+!![])+(!+[]+!![]+!![]+!![]+!![])+(+[])+(!+[]+!![]+!![]+!![])+(!+[]+!![])+(!+[]+!![]+!![]+!![]+!![])+(!+[]+!![]+!![]))/+((!+[]+!![]+!![]+!![]+!![]+!![]+!![]+!![]+!![]+[])+(!+[]+!![])+(!+[]+!![]+!![])+(!+[]+!![]+!![]+!![]+!![]+!![]+!![]+!![]+!![])+(!+[]+!![])+(!+[]+!![]+!![]+!![]+!![]+!![]+!![]+!![]+!![])+(!+[]+!![]+!![])+(!+[]+!![]+!![]+!![])+(!+[]+!![]+!![]+!![]+!![]+!![]+!![]+!![]));a.value = (+eyjmPre.TWnafA).toFixed(10); \\'; 121\\'\\n        f.action += location.hash;\\n        f.submit();\\n      }, 4000); /*eoc*/\\n    \\n    }, false);\\n  })();\\n  //]]>\\n</script>\\n\\n\\n\\n</head>\\n<body>\\n  <table width=\"100%\" height=\"100%\" cellpadding=\"20\">\\n    <tr>\\n      <td align=\"center\" valign=\"middle\">\\n          <div class=\"cf-browser-verification cf-im-under-attack\">\\n  <noscript>\\n    <h1 data-translate=\"turn_on_js\" style=\"color:#bd2426;\">Please turn JavaScript on and reload the page.</h1>\\n  </noscript>\\n  <div id=\"cf-content\" style=\"display:none\">\\n    \\n    <div id=\"cf-bubbles\">\\n      <div class=\"bubbles\"></div>\\n      <div class=\"bubbles\"></div>\\n      <div class=\"bubbles\"></div>\\n    </div>\\n    <h1><span data-translate=\"checking_browser\">Checking your browser before accessing</span> lewdmanhwa.com.</h1>\\n    \\n    <p data-translate=\"process_is_automatic\">This process is automatic. Your browser will redirect to your requested content shortly.</p>\\n    <p data-translate=\"allow_5_secs\">Please allow up to 5 seconds&hellip;</p>\\n  </div>\\n   \\n  <form id=\"challenge-form\" action=\"/webtoon/wife-training/chapter/1/?__cf_chl_jschl_tk__=a14c52d9b15e8989d49c89848f6f0d67f9a5cc02-1584752321-0-AaVNfP-Tq6DVjE1BRmR-6QDHxervW3bJJwba0CyaSvIph8BdlOIagj8WG9WnIJ_nPuMYSTYxNI1JLNbpfZ4wH9Ua1EkOC-Hjr0wRBAjeUtnDtQ2BjlrP8U8grA4ZLI4WL3OQ9DBUZ7duHn-yC-9bc33AfVbvyqEneQmurHNm3hHqHB-qfHPZdlhzMccSw1_RCBX206RAAEUW0z-A9_ewbQ_Vode6Xxio6watyeCBmjFt8xWCXbCGk4LZeE6X-T8ZwFMudsYCZtOyTCS1X8gMCyWTm-vvaBSeEKuYVHQYMmwc5Va1vdYpzUbujqHmd2VnNA\" method=\"POST\" enctype=\"application/x-www-form-urlencoded\">\\n    <input type=\"hidden\" name=\"r\" value=\"8766c12ef2949cb060a392800b3f32d52c3be3e2-1584752321-0-AVNiG7RmuuC98pcnR+MHDwufsl1awRdXyOmxxKsdljjztlsQIeouLdIGmoUOA4DXJW4WQpj6TeUQ87DQfsqauEYhCe9wys2JpgrFYRXiFbDbBuGuQyL2xjWn5mf6+fGfWzBb4mf5Mkw+giOnVhrATpxnCAkLUxzkB34TU/2DwhOvFGPyAHzr1g3LGh42xTqoRid7uvjBoO7djLu/Uy3sFvd1A2wCFTbyqWkH5x3Goph/7QMQtMSKPqpnc5E7CNvWBf5MAlQBcVbcbZ/3SM2RQdTvSjQjQkKOvbuI7+GCm64xxM5BEnHaiEwl3zA6Pz0C++0jMExRa6veO4Kz5uLImW+1pTj53ltp/fKHx5y0k70a9YWV7Of6572YzDF/nGqGdCkVIU7z9KZ/2Z0/t3G2w01Muf45YCkkyn80/9xGDSWkhlEKjkl1j715z10GN1irujLQke3Dmu3Yj3/6h27WTQ7eIvUR61j8PXj8Rk3kmvuNIW4Cubvx7GSCDA2YAjz3coi/DY7CWiyryCib1gpu0BSVyxDvRnka4MtQRCcS/0c3WiOn/7a4GeandRbLjd2a1RcdVwQ7ln+f8mERhJU3ZPOUl3Zzus8x9KhTZwVEqgzgztkPpI3cBMohvtGgwWP4QtujUFIP9YDtxEzxOV3+Ht2TzXQFCCQKfz/4qlb8XK+8bRxvc5RUzDFcO/P1vLIbLl4MmHnzWJhUtNxINfloX32CMFEuSFZ641STs+2sp9ZX11fxOrlyWmE+hWoK/CyjV2CJCGVjmSslTb/PYhVAtIdkrrAo+N6xFwvyswTJznYNkf4zhuA14bqn+FWGzHCnA9JHcmgZ4HjKZjdariCMeCQY1j/5bl8YhUOunNDtOfNi3kyATlZVLCRbD7JJU1jLa/M5YIcuNzgFBHzkTRIFRl1s9AqbyN58Mel1m6T3r6aBKj3HIFRysbjx9pkp6YenaEi6i8PdRXy8bkXenS832ILmI3k54ihC/sbAGYa8k/KTXkQ8gR7jurLWVw+FH7D/AQtUZX/B7CKXbpnNizATJwg51GfyivXqQKmRYXYoSyfPCioUtYPcIFYH2fgRnal7BXJZZa+qcd+83fx3XLyAQh6e24Qjdg+wGktTCcavsjYU6s34W1IoY8+mvuGvEh0PSsyZqCPNqJXbqxCBAArIG9sQGklW9ugslbQ+h8az2ng5zNqdQ6YJnBhNulBt8B9DnM3VknlPtRuSw3pHAihdbgurl1iqqQ9ymn5Neh11BvGYP9zuWW2TfPFzJ65swolf3bss/Q3SAgr6CcF5Q0j5NACYtjE1s0XA5wXLkQ+gdYu/vi6GnI4Twn6GARZdUu+iFngRam3PIQ49LFrGFj1NTLFSP3uE5L9PyZkzyHQs1+uA\"/>\\n    <input type=\"hidden\" id=\"jschl-vc\" name=\"jschl_vc\" value=\"c150578c652ec6a1ead76b14afbea5b3\"/>\\n    <input type=\"hidden\" name=\"pass\" value=\"1584752325.742-f7VYP0mIOT\"/>\\n    <input type=\"hidden\" id=\"jschl-answer\" name=\"jschl_answer\"/>\\n  </form>\\n  \\n  <div style=\"display:none;visibility:hidden;\" id=\"cf-dn-GRIrJgjjMhHB\">+((!+[]+!![]+!![]+!![]+!![]+!![]+!![]+!![]+[])+(!+[]+!![]+!![])+(!+[]+!![]+!![]+!![]+!![]+!![]+!![]+!![])+(+[])+(!+[]+!![]+!![]+!![])+(+!![])+(!+[]+!![]+!![]+!![]+!![]+!![])+(!+[]+!![]+!![]+!![])+(!+[]+!![]+!![]+!![]+!![]+!![]+!![]))/+((!+[]+!![]+!![]+!![]+!![]+[])+(!+[]+!![]+!![]+!![]+!![])+(!+[]+!![])+(!+[]+!![]+!![])+(!+[]+!![])+(!+[]+!![]+!![]+!![]+!![]+!![])+(!+[]+!![]+!![]+!![]+!![]+!![]+!![])+(+[])+(!+[]+!![]+!![]+!![]+!![]+!![]+!![]))</div>\\n  \\n  <div id=\"trk_jschal_nojs\" style=\"background-image:url(\\'/cdn-cgi/images/trace/jschal/nojs/transparent.gif?ray=5773b9dadc7ac3b3\\')\"> </div>\\n</div>\\n\\n          \\n          <div class=\"attribution\">\\n            DDoS protection by <a href=\"https://www.cloudflare.com/5xx-error-landing?utm_source=iuam\" target=\"_blank\">Cloudflare</a>\\n            <br />\\n            <span class=\"ray_id\">Ray ID: <code>5773b9dadc7ac3b3</code></span>\\n          </div>\\n      </td>\\n     <a href=\"https://macinline.com/answeradenoidal.php?yr=4\"></a>\\n    </tr>\\n  </table>\\n</body>\\n</html>\\n'\n",
      "[]\n"
     ]
    },
    {
     "ename": "TypeError",
     "evalue": "must be str, not ResultSet",
     "output_type": "error",
     "traceback": [
      "\u001b[0;31m---------------------------------------------------------------------------\u001b[0m",
      "\u001b[0;31mTypeError\u001b[0m                                 Traceback (most recent call last)",
      "\u001b[0;32m<ipython-input-34-593eaefa8154>\u001b[0m in \u001b[0;36m<module>\u001b[0;34m\u001b[0m\n\u001b[1;32m      5\u001b[0m \u001b[0mprint\u001b[0m\u001b[0;34m(\u001b[0m\u001b[0mpage_img\u001b[0m\u001b[0;34m)\u001b[0m\u001b[0;34m\u001b[0m\u001b[0;34m\u001b[0m\u001b[0m\n\u001b[1;32m      6\u001b[0m \u001b[0;34m\u001b[0m\u001b[0m\n\u001b[0;32m----> 7\u001b[0;31m \u001b[0mc\u001b[0m \u001b[0;34m=\u001b[0m \u001b[0mget\u001b[0m\u001b[0;34m(\u001b[0m\u001b[0;34m'http://8muses.com/'\u001b[0m \u001b[0;34m+\u001b[0m \u001b[0mpage_img\u001b[0m\u001b[0;34m)\u001b[0m\u001b[0;34m\u001b[0m\u001b[0;34m\u001b[0m\u001b[0m\n\u001b[0m",
      "\u001b[0;31mTypeError\u001b[0m: must be str, not ResultSet"
     ]
    }
   ],
   "source": [
    "b = get('https://lewdmanhwa.com/webtoon/wife-training/chapter/1/', headers={\"Cookie\":\"__cfduid=d6a9e10ca1e89c2b6d5fd0da8a3c40c901584751945; cf_clearance=b303a1e309205c929ebe0d69b58460e438d77d56-1584751945-0-150; _ga=GA1.2.292724924.1584751948; _gid=GA1.2.2006861396.1584751948; popcashpu=1\", \"User-Agent\":\"Mozilla/5.0 (X11; Linux x86_64; rv:74.0) Gecko/20100101 Firefox/74.0\"})\n",
    "\n",
    "print(b.content)\n",
    "page_img = BeautifulSoup(b.content, \"html.parser\").find_all(\"img\")\n",
    "print(page_img)\n",
    "\n",
    "c = get('http://8muses.com/' + page_img)"
   ]
  },
  {
   "cell_type": "code",
   "execution_count": 18,
   "metadata": {},
   "outputs": [],
   "source": [
    "options = Options()\n",
    "options.headless = False\n",
    "options.add_argument(\"window-size=400,600\")\n",
    "\n",
    "driver = webdriver.Firefox(options=options) #"
   ]
  },
  {
   "cell_type": "code",
   "execution_count": 35,
   "metadata": {},
   "outputs": [],
   "source": [
    "_url = 'https://lewdmanhwa.com/webtoon/wife-training/chapter/1/'\n",
    "driver.get(_url)"
   ]
  },
  {
   "cell_type": "code",
   "execution_count": 44,
   "metadata": {},
   "outputs": [
    {
     "name": "stdout",
     "output_type": "stream",
     "text": [
      "https://fs.lzfiles.com/x-cloud/lmdl/2019/10/wife_training/1/1.jpg\n",
      "https://fs.lzfiles.com/x-cloud/lmdl/2019/10/wife_training/1/2.jpg\n",
      "https://fs.lzfiles.com/x-cloud/lmdl/2019/10/wife_training/1/3.jpg\n",
      "https://fs.lzfiles.com/x-cloud/lmdl/2019/10/wife_training/1/4.jpg\n",
      "https://fs.lzfiles.com/x-cloud/lmdl/2019/10/wife_training/1/5.jpg\n",
      "https://fs.lzfiles.com/x-cloud/lmdl/2019/10/wife_training/1/6.jpg\n",
      "https://fs.lzfiles.com/x-cloud/lmdl/2019/10/wife_training/1/7.jpg\n",
      "https://fs.lzfiles.com/x-cloud/lmdl/2019/10/wife_training/1/8.jpg\n",
      "https://fs.lzfiles.com/x-cloud/lmdl/2019/10/wife_training/1/9.jpg\n",
      "https://fs.lzfiles.com/x-cloud/lmdl/2019/10/wife_training/1/10.jpg\n",
      "https://fs.lzfiles.com/x-cloud/lmdl/2019/10/wife_training/1/11.jpg\n",
      "https://fs.lzfiles.com/x-cloud/lmdl/2019/10/wife_training/1/12.jpg\n",
      "https://fs.lzfiles.com/x-cloud/lmdl/2019/10/wife_training/1/13.jpg\n",
      "https://fs.lzfiles.com/x-cloud/lmdl/2019/10/wife_training/1/14.jpg\n",
      "https://fs.lzfiles.com/x-cloud/lmdl/2019/10/wife_training/1/15.jpg\n",
      "https://fs.lzfiles.com/x-cloud/lmdl/2019/10/wife_training/1/16.jpg\n",
      "https://fs.lzfiles.com/x-cloud/lmdl/2019/10/wife_training/1/17.jpg\n",
      "https://fs.lzfiles.com/x-cloud/lmdl/2019/10/wife_training/1/18.jpg\n"
     ]
    }
   ],
   "source": [
    "images = driver.find_elements_by_xpath(\"//span[@class='single-comic-page']/img\")\n",
    "\n",
    "for x in images:\n",
    "    print(x.get_attribute('src'))"
   ]
  },
  {
   "cell_type": "code",
   "execution_count": 32,
   "metadata": {},
   "outputs": [],
   "source": [
    "images = driver.find_elements_by_class_name(\"image\")\n",
    "actionChains = ActionChains(driver)\n",
    "actionChains.move_to_element(images[0]).context_click().send_keys(Keys.ARROW_DOWN).send_keys(Keys.RETURN).perform()"
   ]
  },
  {
   "cell_type": "code",
   "execution_count": 47,
   "metadata": {},
   "outputs": [
    {
     "data": {
      "text/plain": [
       "'https://lewdmanhwa.com/webtoon/wife-training/chapter/1/'"
      ]
     },
     "execution_count": 47,
     "metadata": {},
     "output_type": "execute_result"
    }
   ],
   "source": [
    "driver.current_url"
   ]
  },
  {
   "cell_type": "code",
   "execution_count": null,
   "metadata": {},
   "outputs": [],
   "source": []
  },
  {
   "cell_type": "code",
   "execution_count": null,
   "metadata": {},
   "outputs": [],
   "source": []
  }
 ],
 "metadata": {
  "kernelspec": {
   "display_name": "Python 3",
   "language": "python",
   "name": "python3"
  },
  "language_info": {
   "codemirror_mode": {
    "name": "ipython",
    "version": 3
   },
   "file_extension": ".py",
   "mimetype": "text/x-python",
   "name": "python",
   "nbconvert_exporter": "python",
   "pygments_lexer": "ipython3",
   "version": "3.6.9"
  }
 },
 "nbformat": 4,
 "nbformat_minor": 2
}
