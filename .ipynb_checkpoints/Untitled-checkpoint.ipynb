{
 "cells": [
  {
   "cell_type": "code",
   "execution_count": 20,
   "metadata": {},
   "outputs": [],
   "source": [
    "from requests import get\n",
    "from pyquery import PyQuery\n",
    "from lxml.html import parse\n",
    "from html.parser import HTMLParser\n",
    "from bs4 import BeautifulSoup\n",
    "import os"
   ]
  },
  {
   "cell_type": "code",
   "execution_count": 65,
   "metadata": {},
   "outputs": [],
   "source": [
    "url_ = \"https://www.porncomix.info/jabcomix-santo-playa-no-2/\"\n",
    "url = ('https://www.porncomix.info/jabcomix-santo-playa-no-2/jabcomix-santo-playa-no-2-1/')\n",
    "r = get(url_)\n",
    "title = 'Santa_Playa_2_'\n",
    "\n",
    "directory = '/home/karan/Downloads/' + title + '/'\n",
    "os.mkdir(directory)"
   ]
  },
  {
   "cell_type": "code",
   "execution_count": 68,
   "metadata": {},
   "outputs": [
    {
     "name": "stdout",
     "output_type": "stream",
     "text": [
      "https://www.porncomix.info/jabcomix-santo-playa-no-2/jabcomix-santo-playa-no-2-1/\n"
     ]
    },
    {
     "ename": "FileNotFoundError",
     "evalue": "[Errno 2] No such file or directory: '/home/karan/Downloads/Santa_Playa_2_/Santa_Playa_2_01'",
     "output_type": "error",
     "traceback": [
      "\u001b[0;31m---------------------------------------------------------------------------\u001b[0m",
      "\u001b[0;31mFileNotFoundError\u001b[0m                         Traceback (most recent call last)",
      "\u001b[0;32m<ipython-input-68-808a1ddd97a8>\u001b[0m in \u001b[0;36m<module>\u001b[0;34m\u001b[0m\n\u001b[1;32m     20\u001b[0m         \u001b[0mc\u001b[0m \u001b[0;34m=\u001b[0m \u001b[0mget\u001b[0m\u001b[0;34m(\u001b[0m\u001b[0mpage_img\u001b[0m\u001b[0;34m)\u001b[0m\u001b[0;34m\u001b[0m\u001b[0;34m\u001b[0m\u001b[0m\n\u001b[1;32m     21\u001b[0m \u001b[0;34m\u001b[0m\u001b[0m\n\u001b[0;32m---> 22\u001b[0;31m         \u001b[0;32mwith\u001b[0m \u001b[0mopen\u001b[0m\u001b[0;34m(\u001b[0m\u001b[0;34m'/home/karan/Downloads/'\u001b[0m \u001b[0;34m+\u001b[0m \u001b[0mtitle\u001b[0m \u001b[0;34m+\u001b[0m \u001b[0;34m'/'\u001b[0m \u001b[0;34m+\u001b[0m \u001b[0mtitle\u001b[0m \u001b[0;34m+\u001b[0m \u001b[0;34m(\u001b[0m\u001b[0mcount_str\u001b[0m\u001b[0;34m)\u001b[0m\u001b[0;34m,\u001b[0m \u001b[0;34m'wb'\u001b[0m\u001b[0;34m)\u001b[0m \u001b[0;32mas\u001b[0m \u001b[0mf\u001b[0m\u001b[0;34m:\u001b[0m\u001b[0;34m\u001b[0m\u001b[0;34m\u001b[0m\u001b[0m\n\u001b[0m\u001b[1;32m     23\u001b[0m             \u001b[0mf\u001b[0m\u001b[0;34m.\u001b[0m\u001b[0mwrite\u001b[0m\u001b[0;34m(\u001b[0m\u001b[0mc\u001b[0m\u001b[0;34m.\u001b[0m\u001b[0mcontent\u001b[0m\u001b[0;34m)\u001b[0m\u001b[0;34m\u001b[0m\u001b[0;34m\u001b[0m\u001b[0m\n\u001b[1;32m     24\u001b[0m             \u001b[0mprint\u001b[0m\u001b[0;34m(\u001b[0m\u001b[0;34m'/home/karan/Downloads/'\u001b[0m \u001b[0;34m+\u001b[0m \u001b[0mtitle\u001b[0m \u001b[0;34m+\u001b[0m \u001b[0;34m(\u001b[0m\u001b[0mcount_str\u001b[0m\u001b[0;34m)\u001b[0m\u001b[0;34m)\u001b[0m\u001b[0;34m\u001b[0m\u001b[0;34m\u001b[0m\u001b[0m\n",
      "\u001b[0;31mFileNotFoundError\u001b[0m: [Errno 2] No such file or directory: '/home/karan/Downloads/Santa_Playa_2_/Santa_Playa_2_01'"
     ]
    }
   ],
   "source": [
    "html = BeautifulSoup(r.content,\"html.parser\")\n",
    "\n",
    "count = 0\n",
    "\n",
    "for img_page in html.find_all(\"dt\", class_=\"gallery-icon portrait\"):\n",
    "    #print(img_page)    \n",
    "    for a in img_page.find_all(\"a\", href=True):\n",
    "        count = count + 1\n",
    "        \n",
    "        print(a.attrs['href'])\n",
    "        b = get(a.attrs['href'])\n",
    "        \n",
    "        if count < 10:\n",
    "            count_str = \"0\" + str(count)\n",
    "        else:\n",
    "            count_str = str(count)\n",
    "        \n",
    "        page_img = BeautifulSoup(b.content,\"html.parser\").find_all(\"div\", class_=\"attachment-image\")[0].find_all(\"a\", href=True)[0].attrs['href']\n",
    "        \n",
    "        c = get(page_img)\n",
    "        \n",
    "        with open('/home/karan/Downloads/' + title + '/' + title + (count_str), 'wb') as f:\n",
    "            f.write(c.content)\n",
    "            print('/home/karan/Downloads/' + title + (count_str))"
   ]
  },
  {
   "cell_type": "code",
   "execution_count": 40,
   "metadata": {},
   "outputs": [],
   "source": [
    "for img_page in html.find_all(\"div\", class_=\"gallery-icon\"):\n",
    "    print(img_page)\n",
    "    for a in img_page.find_all(\"a\", href=True):\n",
    "        print(a)"
   ]
  },
  {
   "cell_type": "code",
   "execution_count": null,
   "metadata": {},
   "outputs": [],
   "source": [
    "with open('/home/karan/Downloads/cat3.jpg', 'wb') as f:\n",
    "    f.write(r.content)"
   ]
  }
 ],
 "metadata": {
  "kernelspec": {
   "display_name": "Python 3",
   "language": "python",
   "name": "python3"
  },
  "language_info": {
   "codemirror_mode": {
    "name": "ipython",
    "version": 3
   },
   "file_extension": ".py",
   "mimetype": "text/x-python",
   "name": "python",
   "nbconvert_exporter": "python",
   "pygments_lexer": "ipython3",
   "version": "3.6.9"
  }
 },
 "nbformat": 4,
 "nbformat_minor": 2
}
